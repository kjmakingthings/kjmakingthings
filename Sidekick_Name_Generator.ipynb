{
  "nbformat": 4,
  "nbformat_minor": 0,
  "metadata": {
    "colab": {
      "provenance": [],
      "authorship_tag": "ABX9TyN4U7ntMGYDpCUayeKd20r8",
      "include_colab_link": true
    },
    "kernelspec": {
      "name": "python3",
      "display_name": "Python 3"
    },
    "language_info": {
      "name": "python"
    }
  },
  "cells": [
    {
      "cell_type": "markdown",
      "metadata": {
        "id": "view-in-github",
        "colab_type": "text"
      },
      "source": [
        "<a href=\"https://colab.research.google.com/github/kjmakingthings/kjmakingthings/blob/main/Sidekick_Name_Generator.ipynb\" target=\"_parent\"><img src=\"https://colab.research.google.com/assets/colab-badge.svg\" alt=\"Open In Colab\"/></a>"
      ]
    },
    {
      "cell_type": "markdown",
      "source": [
        "# Sidekick Name Generator\n",
        "\n",
        "by KJ\n",
        "\n",
        "---\n",
        "\n",
        "\n",
        "**Description:** Every time this program is ran, a new silly sidekick name is generated to accompany a randomly selected superhero.\n",
        "**Language:** Python\n",
        "\n",
        "\n",
        "---\n",
        "\n",
        "\n",
        "**Note on AI Usage:** No AI-generated code was used.\n",
        "\n",
        "\n",
        "---\n",
        "\n",
        "\n",
        "**Reflection:**\n",
        "\n",
        "*What I did:*  Imported a library which picks a random value from a list and printed the randomized value into a formatted string.\n",
        "\n",
        "*Computational Concepts / Practices:*  The aspects of computational concept / practices I relied on included: conditionals for the correct pronoun assignment, data for assigning values in the list, and then experimenting, iterating, debugging, reusing, remixing all in constant rotation for the code especially in the execution cell."
      ],
      "metadata": {
        "id": "88_sTiKVHsw0"
      }
    },
    {
      "cell_type": "code",
      "source": [
        "# import libraries\n",
        "\n",
        "import random\n",
        "# importing the function that randomly selects a value from a list."
      ],
      "metadata": {
        "id": "z0VMYgwtrHqV"
      },
      "execution_count": 2,
      "outputs": []
    },
    {
      "cell_type": "code",
      "source": [
        "# define global variables\n",
        "\n",
        "color_yellow = \"\\033[33m\"\n",
        "# Color of all the default words.\n",
        "color_magenta = \"\\033[35m\"\n",
        "# Color for all program-generated values."
      ],
      "metadata": {
        "id": "Wwesrn_GrN2M"
      },
      "execution_count": 3,
      "outputs": []
    },
    {
      "cell_type": "code",
      "source": [
        "# define classes and functions (in this order)\n",
        "\n",
        "def get_random_first_name(firstNameSidekick):\n",
        "  # return a random item from sidekick first name list.\n",
        "  return random.choice(firstNameSidekick)\n",
        "\n",
        "def get_random_last_name(lastNameSidekick):\n",
        "  # return a random item from sidekick last name list.\n",
        "  return random.choice(lastNameSidekick)\n",
        "\n",
        "def get_random_superhero_name(mainSuperhero):\n",
        "  # return a random item from superhero name list.\n",
        "  return random.choice(mainSuperhero)"
      ],
      "metadata": {
        "id": "V0V71GPYrU9X"
      },
      "execution_count": 4,
      "outputs": []
    },
    {
      "cell_type": "code",
      "source": [
        "# code executiion in this cell\n",
        "\n",
        "# create lists of names for first name, last name, and the accompanying superhero\n",
        "firstNameSidekick = ['Flubber', 'Bumbershoot', 'Ramshackle', 'Lickety-spilt', 'Tweedle']\n",
        "# list of first names that can be used for the silly sidekick name.\n",
        "lastNameSidekick = ['Noob', 'Puggle', 'Whippersnapper', 'Hullabballo', 'Stumblebum']\n",
        "# list of last names that can be used for the silly sidekick name.\n",
        "mainSuperhero = ['Mermaid Man', 'Batman', 'Spiderman', 'Wally West', \"Wonder Woman\"]\n",
        "# list of superhero names that will be used for the introduction.\n",
        "\n",
        "# call the function to pull a random name from each list\n",
        "randomSuperhero = get_random_superhero_name(mainSuperhero)\n",
        "# call the function to pick a random value from the list mainSuperhero and store to variable called randomSuperhero\n",
        "randomSidekick = f\"{get_random_first_name(firstNameSidekick)} {get_random_last_name(lastNameSidekick)}\"\n",
        "# Call the function to pick a random value from the list firstNameSidekick. Call the method to pick a random value from lastNameSidekick. And format string.\n",
        "\n",
        "# generate the appropriate pronoun for the superhero\n",
        "if randomSuperhero == 'Wonder Woman':\n",
        "    randomSuperheroPronoun = \"her\"\n",
        "elif randomSuperhero in ('Mermaid Man', 'Batman', 'Spiderman', 'Wally West'):\n",
        "    randomSuperheroPronoun = \"his\"\n",
        "else:\n",
        "  randomSuperheroPronoun = \"their\"\n",
        "\n",
        "# format the final string into a catchy hero and sidekick introduction.\n",
        "superheroOpeningCredits = f\"{color_yellow}Coming to the rescue is {color_magenta}{randomSuperhero}{color_yellow} and {color_magenta}{randomSuperheroPronoun}{color_yellow} trusty sidekick {color_magenta}{randomSidekick}{color_yellow}.\"\n",
        "\n",
        "# print final string\n",
        "print(superheroOpeningCredits)"
      ],
      "metadata": {
        "colab": {
          "base_uri": "https://localhost:8080/"
        },
        "id": "rQhB8KrkrdCq",
        "outputId": "5b2c84eb-ac35-4e65-d4a5-eb84ab2210ba"
      },
      "execution_count": 5,
      "outputs": [
        {
          "output_type": "stream",
          "name": "stdout",
          "text": [
            "\u001b[33mComing to the rescue is \u001b[35mWally West\u001b[33m and \u001b[35mhis\u001b[33m trusty sidekick \u001b[35mTweedle Whippersnapper\u001b[33m.\n"
          ]
        }
      ]
    }
  ]
}