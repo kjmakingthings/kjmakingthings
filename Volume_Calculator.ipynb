{
  "nbformat": 4,
  "nbformat_minor": 0,
  "metadata": {
    "colab": {
      "provenance": [],
      "authorship_tag": "ABX9TyOQDhosu0owc9rAjXrrkmyS",
      "include_colab_link": true
    },
    "kernelspec": {
      "name": "python3",
      "display_name": "Python 3"
    },
    "language_info": {
      "name": "python"
    }
  },
  "cells": [
    {
      "cell_type": "markdown",
      "metadata": {
        "id": "view-in-github",
        "colab_type": "text"
      },
      "source": [
        "<a href=\"https://colab.research.google.com/github/kjmakingthings/kjmakingthings/blob/main/Volume_Calculator.ipynb\" target=\"_parent\"><img src=\"https://colab.research.google.com/assets/colab-badge.svg\" alt=\"Open In Colab\"/></a>"
      ]
    },
    {
      "cell_type": "markdown",
      "source": [
        "# Volume Calculator\n",
        "\n",
        "by KJ\n",
        "\n",
        "\n",
        "---\n",
        "\n",
        "\n",
        "**Description:** This program will calculate the volumes of a sphere, cube, and a right circular cone with user-inputted values for radius, height, edge as required for the desired shape.\n",
        "\n",
        "**Language:** Python\n",
        "\n",
        "---\n",
        "\n",
        "\n",
        "**Note on AI-Usage:** No AI-generated code was used; however, Gemini was used to explain errors.\n",
        "\n",
        "\n",
        "---\n",
        "\n",
        "\n",
        "**Reflection:**\n",
        "\n",
        "*What I did:* I created variables to store user-inputted values for selecting which shape to calculate and their dimensions. I used if statements to tree out into different user prompted based on the chosen shape and wrote equations and store into variable to then be printed in a formatted string with the final calculated volume.\n",
        "\n",
        "*Computational Concepts / Practices:* The aspect of computational concepts / practices I related on included: conditional to branch out the code based on user inputted shape choice, data to store values into variables. Then I employed experimenting, iterating, debugging, reusing, remixing all in constant rotation to write the write in code especially in the execution cell."
      ],
      "metadata": {
        "id": "3-gL30txHLYn"
      }
    },
    {
      "cell_type": "code",
      "source": [
        "# import libraries\n",
        "\n",
        "import time\n",
        "# create pauses between prints"
      ],
      "metadata": {
        "id": "IgpVL3ITQ0BR"
      },
      "execution_count": null,
      "outputs": []
    },
    {
      "cell_type": "code",
      "source": [
        "# define global variables\n",
        "\n",
        "color_yellow = \"\\033[33m\"\n",
        "# Color of all the default words.\n",
        "color_magenta = \"\\033[35m\"\n",
        "# Color for all program-generated values."
      ],
      "metadata": {
        "id": "2IjB8vKPQ4dJ"
      },
      "execution_count": null,
      "outputs": []
    },
    {
      "cell_type": "code",
      "source": [
        "# execute code in this cell\n",
        "\n",
        "print(f\"{color_yellow}Hello There. What kind of shape would you like to calculate? \")\n",
        "shapeChoice = input (f\"\\nPlease enter 1 for a sphere, 2 for a cube, and 3 for a right circular cone. \")\n",
        "# first user prompt for choosing shape\n",
        "time.sleep(1)\n",
        "# brief pause between prints\n",
        "\n",
        "# now enter the tree based on user-input shape choice\n",
        "if shapeChoice == \"1\":\n",
        "# if user chooses sphere, then enter this sequence for a fun fact about spheres and prompt the required measurement for a sphere: the radius\n",
        "  print(f\"\\n{color_yellow}A sphere! Here's a fun fact: Every point on its surface is the same distance away from its center.\\n\")\n",
        "  time.sleep(2.5)\n",
        "  sphereRadius = float(input (f\"\\tEnter the radius of the sphere in inches: \"))\n",
        "  # prompt user for the radius in inches and convert to a float so that this can be used in subsequent calculations\n",
        "  time.sleep(0.5)\n",
        "  print(f\"\\n{color_yellow}Bleep. Bleep. Bloop. I am calculating the volume...\")\n",
        "  time.sleep(4.5)\n",
        "  volumeOfSphere = (4/3) * (22/7) * (sphereRadius ** 3)\n",
        "  # formula to calculate the volume of a sphere\n",
        "  print(f\"\\nThe volume of a sphere with a radius of {color_magenta}{sphereRadius}{color_yellow} inches is {color_magenta}{volumeOfSphere} {color_yellow}cubic inches.\")\n",
        "  # final print output summarizing the user inputs and the calculated volume\n",
        "\n",
        "if shapeChoice == \"2\":\n",
        "# if user chooses cube, then enter this sequence for a fun fact about cubes and prompt the required measurement for a cube: the edge\n",
        "  print(\"\\nA cube! Here's a fun fact: It is the only regular polyhedron that can be perfectly inscribed within a sphere.\\n\")\n",
        "  time.sleep(2.5)\n",
        "  cubeEdge = float(input (\"\\tEnter the length of the edge in inches: \"))\n",
        "  # prompt user for the edge in inches and convert to a float so that this can be used in subsequent calculations\n",
        "  time.sleep(0.5)\n",
        "  print(\"\\nBleep. Bleep. Bloop. I am calculating the volume...\")\n",
        "  time.sleep(4.5)\n",
        "  volumeOfCube = cubeEdge ** 3\n",
        "  # formula to calculate the volume of a cube\n",
        "  print(f\"\\nThe volume of a cube with an edge of {color_magenta}{cubeEdge}{color_yellow} inches is {color_magenta}{volumeOfCube}{color_yellow} cubic inches.\")\n",
        "  # final print output summarizing the user inputs and the calculated volume\n",
        "\n",
        "if shapeChoice == \"3\":\n",
        "# if user chooses right circular cone, then enter this sequence for a fun fact about right circular cones and prompt the required measurements for the: the radius and the height\n",
        "  print(\"\\nA right circular cone! Very related to the pyramid, but is much better suited for delightful shaved ice confections on a hot day.\\n\")\n",
        "  time.sleep(2.5)\n",
        "  rightCircularConeRadius = float(input(\"\\tEnter the radius in inches: \"))\n",
        "  # prompt user for the radius in inches and convert to a float so that this can be used in subsequent calculations\n",
        "  time.sleep(0.5)\n",
        "  rightCircularConeHeight = float(input(\"\\tEnter the height in inches: \"))\n",
        "  # prompt user for the height in inches and convert to a float so that this can be used in subsequent calculations\n",
        "  time.sleep(0.5)\n",
        "  print(\"\\nBleep. Bleep. Bloop. I am calculating the volume...\")\n",
        "  time.sleep(4.5)\n",
        "  volumeOfRightCircularConeRadius = (1/3) * (22/7) * (rightCircularConeRadius**2) * (rightCircularConeHeight)\n",
        "  # formula to calculate the volume of a right circular cone\n",
        "  print(f\"\\nThe volume of a {color_magenta}right circular cone{color_yellow} with a radius of {color_magenta}{rightCircularConeRadius}{color_yellow} inches and a height of {color_magenta}{rightCircularConeHeight}{color_yellow} inches is {color_magenta}{volumeOfRightCircularConeRadius}{color_yellow} cubic inches.\")\n",
        "  # final print output summarizing the user inputs and the calculated volume"
      ],
      "metadata": {
        "colab": {
          "base_uri": "https://localhost:8080/"
        },
        "id": "hjRrz3HHRDLR",
        "outputId": "dadaa765-9f77-4969-de3b-3c65726bb4a7"
      },
      "execution_count": null,
      "outputs": [
        {
          "output_type": "stream",
          "name": "stdout",
          "text": [
            "\u001b[33mHello There. What kind of shape would you like to calculate? \n",
            "\n",
            "Please enter 1 for a sphere, 2 for a cube, and 3 for a right circular cone. 3\n",
            "\n",
            "A right circular cone! Very related to the pyramid, but is much better suited for delightful shaved ice confections on a hot day.\n",
            "\n",
            "\tEnter the radius in inches: 4\n",
            "\tEnter the height in inches: 3\n",
            "\n",
            "Bleep. Bleep. Bloop. I am calculating the volume...\n",
            "\n",
            "The volume of a \u001b[35mright circular cone\u001b[33m with a radius of \u001b[35m4.0\u001b[33m inches and a height of \u001b[35m3.0\u001b[33m inches is \u001b[35m50.28571428571428\u001b[33m cubic inches.\n"
          ]
        }
      ]
    },
    {
      "cell_type": "markdown",
      "source": [
        "# **For my other final graded projects:**\n",
        "\n",
        "Python Project #2 - Finding Palindromes: https://colab.research.google.com/drive/13H-aWwtAztqDfI8E-tfx2GEVHFicC60f#scrollTo=nJgT5-JWL74w\n",
        "\n",
        "Python Project #4 - Analyze & Graph Your Data: https://colab.research.google.com/drive/11qqXwlE6OjT7n_CWH57YmaLIbixEff80#scrollTo=AhovCJH15utz\n",
        "\n",
        "\n",
        "# **For extra credit:**\n",
        "\n",
        "Python Project #1 - Silly Name Generator: https://colab.research.google.com/drive/1Ht2KAZaK10fb7NY8-2C8GZnMA_aqkw0f#scrollTo=JCZ8rjvcsLpA\n",
        "\n",
        "\n",
        "# **Just for practice:**\n",
        "  \n",
        "Python Project #3 - Slot Machines: https://colab.research.google.com/drive/1HTTjwMf2eCRJLVlmJZ8R0MUSTwjwJUuS#scrollTo=YEWXZmCgOuN9\n",
        "\n",
        "(Just for Fun) Volume Calculator: https://colab.research.google.com/drive/1Viaj8Zoxagyb2qmUlaSuFwrmQl4wlMn_#scrollTo=38tzuJ5jQgPQ"
      ],
      "metadata": {
        "id": "qu7oi0kPZF6H"
      }
    }
  ]
}