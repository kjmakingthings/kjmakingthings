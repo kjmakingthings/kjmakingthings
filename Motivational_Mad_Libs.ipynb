{
  "nbformat": 4,
  "nbformat_minor": 0,
  "metadata": {
    "colab": {
      "provenance": [],
      "authorship_tag": "ABX9TyMVU+J6zuDT47B5Q8kAO+vG",
      "include_colab_link": true
    },
    "kernelspec": {
      "name": "python3",
      "display_name": "Python 3"
    },
    "language_info": {
      "name": "python"
    }
  },
  "cells": [
    {
      "cell_type": "markdown",
      "metadata": {
        "id": "view-in-github",
        "colab_type": "text"
      },
      "source": [
        "<a href=\"https://colab.research.google.com/github/kjmakingthings/kjmakingthings/blob/main/Motivational_Mad_Libs.ipynb\" target=\"_parent\"><img src=\"https://colab.research.google.com/assets/colab-badge.svg\" alt=\"Open In Colab\"/></a>"
      ]
    },
    {
      "cell_type": "code",
      "execution_count": null,
      "metadata": {
        "id": "QmJPtHSUaaz1",
        "colab": {
          "base_uri": "https://localhost:8080/"
        },
        "outputId": "6f7ec4bf-43f4-48dc-f620-9280e96e5d7b"
      },
      "outputs": [
        {
          "output_type": "stream",
          "name": "stdout",
          "text": [
            "A Fabulous Thing:Indie\n",
            "A Fantastic Action:Backflip\n",
            "Name Something Delicious:Garlic Naan\n",
            "Your Hardest Exercise:Squats\n",
            "A Lame Thing People Do:Complain\n",
            "A Cheesy Mantra:Say it louder!\n",
            "\n",
            "\u001b[33mMake your \u001b[35mIndie Backflip\u001b[33m.\n",
            "Just do it.\n",
            "\n",
            "Some people dream of \u001b[35mGarlic Naan\u001b[33m.\n",
            "While you are gonna wake up and do \u001b[35mSquats\u001b[33m.\n",
            "Nothing is impossible.\n",
            "\n",
            "You should get to the point\n",
            "Where anyone else would \u001b[35mComplain\u001b[33m.\n",
            "And you are not going to stop there.\n",
            "No, what are you waiting for?\n",
            "\n",
            "Do it.\n",
            "Just do it.\n",
            "Yes you can.\n",
            "\u001b[35mSay it louder!\u001b[33m.\n",
            "If you are tired of starting over.\n",
            "Stop giving up.\n"
          ]
        }
      ],
      "source": [
        "# This is a mad libs game after the Shia LeBeouf motivational speech \"Just Do It.\"\n",
        "\n",
        "color_yellow = \"\\033[33m\" # This will become color of all the words that are not a user input.\n",
        "color_magenta = \"\\033[35m\" # This will be the color for all user input values.\n",
        "\n",
        "aFabulousThing = input(\"A Fabulous Thing:\") # This is a mad lib noun value.\n",
        "aFantasticAction = input(\"A Fantastic Action:\") # This is a mad lib verb value.\n",
        "somethingDelicious = input(\"Name Something Delicious:\") # This is a mad lib noun value.\n",
        "yourHardestExercise = input(\"Your Hardest Exercise:\") # This is a mad lib noun value.\n",
        "aLameThingPeopleDo = input(\"A Lame Thing People Do:\") # This is a mad lib verb value.\n",
        "aCheesyMantra = input(\"A Cheesy Mantra:\") # This is a statement.\n",
        "\n",
        "madlibs = f\"\"\"\n",
        "{color_yellow}Make your {color_magenta}{aFabulousThing} {aFantasticAction}{color_yellow}.\n",
        "Just do it.\n",
        "\n",
        "Some people dream of {color_magenta}{somethingDelicious}{color_yellow}.\n",
        "While you are gonna wake up and do {color_magenta}{yourHardestExercise}{color_yellow}.\n",
        "Nothing is impossible.\n",
        "\n",
        "You should get to the point\n",
        "Where anyone else would {color_magenta}{aLameThingPeopleDo}{color_yellow}.\n",
        "And you are not going to stop there.\n",
        "No, what are you waiting for?\n",
        "\n",
        "Do it.\n",
        "Just do it.\n",
        "Yes you can.\n",
        "{color_magenta}{aCheesyMantra}{color_yellow}.\n",
        "If you are tired of starting over.\n",
        "Stop giving up.\"\"\"\n",
        "\n",
        "print(madlibs)"
      ]
    },
    {
      "cell_type": "code",
      "source": [],
      "metadata": {
        "id": "s1cj6HA6kwYv"
      },
      "execution_count": null,
      "outputs": []
    }
  ]
}