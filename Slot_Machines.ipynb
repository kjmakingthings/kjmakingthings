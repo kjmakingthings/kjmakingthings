{
  "nbformat": 4,
  "nbformat_minor": 0,
  "metadata": {
    "colab": {
      "provenance": [],
      "authorship_tag": "ABX9TyOPZTdaKYjrRBu/WuU5U3JZ",
      "include_colab_link": true
    },
    "kernelspec": {
      "name": "python3",
      "display_name": "Python 3"
    },
    "language_info": {
      "name": "python"
    }
  },
  "cells": [
    {
      "cell_type": "markdown",
      "metadata": {
        "id": "view-in-github",
        "colab_type": "text"
      },
      "source": [
        "<a href=\"https://colab.research.google.com/github/kjmakingthings/kjmakingthings/blob/main/Slot_Machines.ipynb\" target=\"_parent\"><img src=\"https://colab.research.google.com/assets/colab-badge.svg\" alt=\"Open In Colab\"/></a>"
      ]
    },
    {
      "cell_type": "markdown",
      "source": [
        "# Slot Machines\n",
        "\n",
        "by KJ\n",
        "\n",
        "---\n",
        "\n",
        "\n",
        "**Description:** Martha plays 3 slot machines. She starts with a user-inputed amount of quarters.\n",
        "She plays the 3 slot machines in turn.\n",
        "\n",
        "The first machine pays 30 quarters for every 35th play.\n",
        "\n",
        "The second machine pays 60 quarters for every 100th play.\n",
        "\n",
        "The third and final machine pays 9 quarters for every 10th play.\n",
        "\n",
        "The program will ask the user to input how many plays each machine has before Martha begins playing.\n",
        "\n",
        "Then, this program will calculate how many times Martha plays the machines before running out of quarters.\n",
        "\n",
        "**Language:** Python\n",
        "\n",
        "\n",
        "---\n",
        "\n",
        "\n",
        "\n",
        "**Note on AI Usage:** No AI-generated code or tools were used.\n",
        "\n",
        "---\n",
        "\n",
        "\n",
        "**Reflection:**\n",
        "\n",
        "*What I did:* I created variables to store the user-inputted amounts for the quarters to start with and numbers on each of the 3 machines. Then I created a loop to run until Martha is out of quarters. The code runs through if/else statements on each machine incrementing plays and rewarding wins along the way until Martha is out of quarters. Then a final print will state how many plays were conducted by Martha until number_of_quarters = 0.\n",
        "\n",
        "*Computational Concepts / Practices:* The aspects of computation concepts / practices I relied on included: conditional to check if Martha still had a quarter to play the machine, loops to continue running the program as long as Martha had > 0 quarters to play, operators to compare the count of quarters to 0, data to store user inputted values, number of quarters, and count of plays on each machine. Then I employed experimenting, iterating, debugging, reusing, remixing all in constant rotation to write the write in code especially in the execution cell."
      ],
      "metadata": {
        "id": "spk-MhScTJwm"
      }
    },
    {
      "cell_type": "code",
      "source": [
        "# define global variables\n",
        "\n",
        "color_yellow = \"\\033[33m\"\n",
        "# Color of all the default words.\n",
        "color_magenta = \"\\033[35m\"\n",
        "# Color for all program-generated values.\n",
        "\n",
        "# gather the four integer inputs from user: quarters and play counts on each of the slot machines\n",
        "number_of_quarters = int(input(\"With how many quarters would you like Martha to start: \"))\n",
        "count_on_first_slot = int(input(\"What is the count on the first slot: \"))\n",
        "count_on_second_slot = int(input(\"What is the count on the second slot: \"))\n",
        "count_on_third_slot = int(input(\"What is the count on the third slot: \"))\n",
        "\n",
        "# start the count of number of plays from 0\n",
        "number_of_plays = 0"
      ],
      "metadata": {
        "colab": {
          "base_uri": "https://localhost:8080/"
        },
        "id": "nfkS8HatOJx-",
        "outputId": "8d90083c-b73e-4225-acaa-10e6cbf10528"
      },
      "execution_count": null,
      "outputs": [
        {
          "name": "stdout",
          "output_type": "stream",
          "text": [
            "With how many quarters would you like Martha to start: 2\n",
            "What is the count on the first slot: 7\n",
            "What is the count on the second slot: 0\n",
            "What is the count on the third slot: 7\n"
          ]
        }
      ]
    },
    {
      "cell_type": "code",
      "source": [
        "# code executiion in this cell\n",
        "\n",
        "# run the loop - or otherwise continue to play the slots as long as Martha still has at least one quarter\n",
        "while number_of_quarters > 0:\n",
        "\n",
        "# first slot machine block of code\n",
        "  number_of_plays += 1\n",
        "  # incremental number of total plays by one\n",
        "  if count_on_first_slot == 35:\n",
        "    number_of_quarters += 29\n",
        "    count_on_first_slot = 0\n",
        "  # if the count on this slot is 35, then grant 30 quarters - the 1 quarter required to play = 29 quarters\n",
        "  # return the count on the first slot back to 0\n",
        "  else:\n",
        "    number_of_quarters -= 1\n",
        "  # otherwise reduce number of quarters by 1\n",
        "    count_on_first_slot += 1\n",
        "  # and increment the count on the first slot by 1\n",
        "\n",
        "  print(f\"\\n{color_yellow}Martha takes a quarter and plays the first slot machine.\")\n",
        "  print(f\"\\tCount on the first slot is: {count_on_first_slot}\")\n",
        "  print(f\"\\tNumber of quarters left is: {number_of_quarters}\")\n",
        "  print(f\"\\tNumber of plays is: {number_of_plays}\")\n",
        "\n",
        "  # second slot machine block of code\n",
        "  number_of_plays += 1\n",
        "  # increment number of total plays by one\n",
        "  count_on_second_slot += 1\n",
        "  # increment the count on the second slot by 1\n",
        "  if (count_on_second_slot == 100) and (number_of_quarters > 0):\n",
        "    number_of_quarters += 59\n",
        "    count_on_second_slot = 0\n",
        "  # if count on this slot is 100 and Martha still had a quarter to play, then reward 60 - 1 = 59 quarters\n",
        "  # then return the count on second slot back to 0\n",
        "  elif (count_on_second_slot != 100) and (number_of_quarters > 0):\n",
        "    number_of_quarters -= 1\n",
        "  # else if count on this slot in not 100 and Martha still had a quarter to play, then decrement quarters remaining by one.\n",
        "  else:\n",
        "    number_of_plays -= 1\n",
        "    # else, this meant that Martha did not have a quarter to play and we need to decrement total number of plays by one\n",
        "    # in other words, she should not have even played.\n",
        "    break\n",
        "    # break to end the program as Martha does not have any quarters left.\n",
        "  print(f\"\\nMartha takes a quarter and plays the second slot machine.\")\n",
        "  print(f\"\\tCount on the second slot is: {count_on_second_slot}\")\n",
        "  print(f\"\\tNumber of quarters left is: {number_of_quarters}\")\n",
        "  print(f\"\\tNumber of plays is: {number_of_plays}\")\n",
        "\n",
        "#third slot machine block of code\n",
        "  number_of_plays += 1\n",
        "  # increment number of total plays by one\n",
        "  count_on_third_slot += 1\n",
        "  # increment the count on the second slot by 1\n",
        "  if (count_on_third_slot == 10) and (number_of_quarters > 0):\n",
        "    number_of_quarters += 8\n",
        "    count_on_third_slot = 0\n",
        "  # if count on this slot is 10 and Martha still had a quarter to play, then reward 9 - 1 = 8 quarters\n",
        "  # then return the count on third slot back to 0\n",
        "  elif (count_on_third_slot != 10) and (number_of_quarters > 0):\n",
        "    number_of_quarters -= 1\n",
        "  # else if count on this slot in not 100 and Martha still had a quarter to play, then reduce quarters remaining by one.\n",
        "  else:\n",
        "    number_of_plays -= 1\n",
        "    # else, this meant that Martha did not have a quarter to play and we need to decrement total number of plays by one\n",
        "    # in other words, she should not have even played.\n",
        "    break\n",
        "    # break to end the program as Martha does not have any quarters left.\n",
        "  print(f\"\\nMartha takes a quarter and plays the third slot machine.\")\n",
        "  print(f\"\\tCount on the third slot is: {count_on_third_slot}\")\n",
        "  print(f\"\\tNumber of quarters left is: {number_of_quarters}\")\n",
        "  print(f\"\\tNumber of plays is: {number_of_plays}\")\n",
        "\n",
        "# once the loop is exited, print all the final values.\n",
        "print(f\"\\n------------------------------------------------\")\n",
        "print(f\"\\nFinal count on the first slot: {count_on_first_slot}\")\n",
        "print(f\"Final count on the second slot: {count_on_second_slot}\")\n",
        "print(f\"Final vount on the third slot: {count_on_third_slot}\")\n",
        "print(f\"Remaining number of quarters: {number_of_quarters}\")\n",
        "print(f\"\\n{color_magenta}------------------------------------------------\")\n",
        "print(f\"\\nMartha plays {number_of_plays} times before going broke.\")"
      ],
      "metadata": {
        "colab": {
          "base_uri": "https://localhost:8080/"
        },
        "id": "VWsyUtsTOVdT",
        "outputId": "48b5bb80-2869-4b5a-b9d6-b2b71d4cbe29"
      },
      "execution_count": null,
      "outputs": [
        {
          "output_type": "stream",
          "name": "stdout",
          "text": [
            "\n",
            "\u001b[33mMartha takes a quarter and plays the first slot machine.\n",
            "\tCount on the first slot is: 8\n",
            "\tNumber of quarters left is: 1\n",
            "\tNumber of plays is: 1\n",
            "\n",
            "Martha takes a quarter and plays the second slot machine.\n",
            "\tCount on the second slot is: 1\n",
            "\tNumber of quarters left is: 0\n",
            "\tNumber of plays is: 2\n",
            "\n",
            "------------------------------------------------\n",
            "\n",
            "Final count on the first slot: 8\n",
            "Final count on the second slot: 1\n",
            "Final vount on the third slot: 8\n",
            "Remaining number of quarters: 0\n",
            "\n",
            "\u001b[35m------------------------------------------------\n",
            "\n",
            "Martha plays 2 times before going broke.\n"
          ]
        }
      ]
    }
  ]
}