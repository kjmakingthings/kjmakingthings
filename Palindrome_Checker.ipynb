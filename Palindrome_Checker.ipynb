{
  "nbformat": 4,
  "nbformat_minor": 0,
  "metadata": {
    "colab": {
      "provenance": [],
      "include_colab_link": true
    },
    "kernelspec": {
      "name": "python3",
      "display_name": "Python 3"
    },
    "language_info": {
      "name": "python"
    }
  },
  "cells": [
    {
      "cell_type": "markdown",
      "metadata": {
        "id": "view-in-github",
        "colab_type": "text"
      },
      "source": [
        "<a href=\"https://colab.research.google.com/github/kjmakingthings/kjmakingthings/blob/main/Palindrome_Checker.ipynb\" target=\"_parent\"><img src=\"https://colab.research.google.com/assets/colab-badge.svg\" alt=\"Open In Colab\"/></a>"
      ]
    },
    {
      "cell_type": "markdown",
      "source": [
        "# Python Project: Finding Palindromes\n",
        "\n",
        "By KJ\n",
        "\n",
        "\n",
        "---\n",
        "\n",
        "\n",
        "**Description:** This program will ask the user for any word input and evaluate if this is a palindrome or not.\n",
        "\n",
        "\n",
        "---\n",
        "\n",
        "\n",
        "**Note on AI Usage:** No AI-generated code was used; however, I did use Gemini to explain errors when I encountered them.\n",
        "\n",
        "\n",
        "---\n",
        "\n",
        "\n",
        "**Reflection:**\n",
        "\n",
        "*What I did:*  I created an input variable for user to enter a word they'd like to be checked as a palindrome and create another variable that is the reverse order of the user-inputted word. Then I compared if these two variables were the same and an if/else statement to print whether or not the word is a palindrome.\n",
        "\n",
        "*Computational Concepts / Practices:*  The aspects of computation concept / practices I relied on included: conditional check if a palindroe, then print a string that confirms that it is; otherwise, print that it is not, data for storing the value of the user inputted field, and then experimenting, iterating, debugging, reusing, remixing all in constant rotation to write the write in code especially in the execution cell.\n",
        "\n",
        "*Tough / Fun:*  When I first read this prompt, I thought I have been to count each character of the word and then extract character by character to compare it to the reverse order of the word. However with some research, there exists a function that already reverse orders the inputted word. This made the code much simplier and grew in impression with the available functions we have at our disposal in documentation. This impression was the fun bit."
      ],
      "metadata": {
        "id": "wQXA9XpqQfZ6"
      }
    },
    {
      "cell_type": "code",
      "source": [
        "# define global variables\n",
        "\n",
        "color_yellow = \"\\033[33m\"\n",
        "# Color of all the default words.\n",
        "color_magenta = \"\\033[35m\"\n",
        "# Color for all program-generated values.\n",
        "\n",
        "wordInput = (input (f\"Enter the word to check if this is a palindrome: \")).lower()\n",
        "# user can input the word they would like to have checked for palindromic properties and lower case all letters to be evaluated equally in subsequent lines\n",
        "wordInputReversed = wordInput[::-1]\n",
        "# function to reverse order the user-inputted word"
      ],
      "metadata": {
        "id": "XZJJ5XfjL4dK",
        "colab": {
          "base_uri": "https://localhost:8080/"
        },
        "outputId": "dbe0460b-d0f3-4e49-e534-9e2c55210486"
      },
      "execution_count": null,
      "outputs": [
        {
          "name": "stdout",
          "output_type": "stream",
          "text": [
            "Enter the word to check if this is a palindrome: 10101\n"
          ]
        }
      ]
    },
    {
      "cell_type": "code",
      "source": [
        "class palindromeChecker:\n",
        "  def __init__(self, wordInput):\n",
        "    self.wordInput = wordInput\n",
        "  # initializing method for the class palindromeChecker\n",
        "\n",
        "  def checkPalindrome(self):\n",
        "    if wordInput == wordInputReversed:\n",
        "      print(f\"\\n{color_magenta}{wordInput.title()}{color_yellow} is a palindrome.\")\n",
        "    else:\n",
        "      print(f\"\\n{color_magenta}{wordInput.title()}{color_yellow} is not a palindrome.\")\n",
        "  # if statement evaluates if the wordInput and wordInputReversed are equal to one another. If yes, it is a palindrome. Else, it is not.\n"
      ],
      "metadata": {
        "id": "mE_p89SLEQRB"
      },
      "execution_count": null,
      "outputs": []
    },
    {
      "cell_type": "code",
      "source": [
        "# code execution in this cell\n",
        "\n",
        "wordInputObject = palindromeChecker(wordInput) # creating an object off the palindromeChecker class with user inputted word stored in wordInput variable\n",
        "wordInputObject.checkPalindrome() # call the method to check if word is a palindrome"
      ],
      "metadata": {
        "colab": {
          "base_uri": "https://localhost:8080/"
        },
        "id": "nu0F8XY6EvOX",
        "outputId": "d986de5a-fcce-4c71-c91b-c24d87ae3ac0"
      },
      "execution_count": null,
      "outputs": [
        {
          "output_type": "stream",
          "name": "stdout",
          "text": [
            "\n",
            "\u001b[35m10101\u001b[33m is a palindrome.\n"
          ]
        }
      ]
    }
  ]
}